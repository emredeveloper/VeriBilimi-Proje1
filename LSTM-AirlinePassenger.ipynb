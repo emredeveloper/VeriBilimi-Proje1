{
  "nbformat": 4,
  "nbformat_minor": 0,
  "metadata": {
    "colab": {
      "provenance": [],
      "authorship_tag": "ABX9TyPlOlUV9tmB31idSCXYU0h+",
      "include_colab_link": true
    },
    "kernelspec": {
      "name": "python3",
      "display_name": "Python 3"
    },
    "language_info": {
      "name": "python"
    }
  },
  "cells": [
    {
      "cell_type": "markdown",
      "metadata": {
        "id": "view-in-github",
        "colab_type": "text"
      },
      "source": [
        "<a href=\"https://colab.research.google.com/github/emredeveloper/VeriBilimi-Projeler/blob/main/LSTM-AirlinePassenger.ipynb\" target=\"_parent\"><img src=\"https://colab.research.google.com/assets/colab-badge.svg\" alt=\"Open In Colab\"/></a>"
      ]
    },
    {
      "cell_type": "code",
      "source": [
        "import numpy as np\n",
        "import pandas as pd\n",
        "from sklearn.preprocessing import MinMaxScaler\n",
        "from tensorflow.keras.models import Sequential\n",
        "from tensorflow.keras.layers import LSTM, Dense\n",
        "from tensorflow.keras.callbacks import EarlyStopping\n",
        "import matplotlib.pyplot as plt\n",
        "from tensorflow.keras.layers import Dropout\n"
      ],
      "metadata": {
        "id": "03zwUPJWKE1d"
      },
      "execution_count": 121,
      "outputs": []
    },
    {
      "cell_type": "code",
      "source": [
        "# Air Passengers veri setini yükle\n",
        "url = \"https://raw.githubusercontent.com/jbrownlee/Datasets/master/airline-passengers.csv\"\n",
        "df = pd.read_csv(url, usecols=[1], engine='python', skipfooter=3)\n",
        "\n",
        "# Veriyi numpy array'e dönüştür\n",
        "data = df.values.astype('float32')"
      ],
      "metadata": {
        "id": "tfjmOb9CKEzh"
      },
      "execution_count": 122,
      "outputs": []
    },
    {
      "cell_type": "code",
      "source": [
        "# Veriyi normalize et\n",
        "scaler = MinMaxScaler(feature_range=(0, 1))\n",
        "data_scaled = scaler.fit_transform(data)\n",
        "\n",
        "# Veriyi LSTM modeline uygun hale getir\n",
        "time_steps = 12\n",
        "x, y = create_dataset(data_scaled, data_scaled, time_steps)"
      ],
      "metadata": {
        "id": "KUaur-shKExH"
      },
      "execution_count": 123,
      "outputs": []
    },
    {
      "cell_type": "code",
      "source": [
        "# Veriyi eğitim ve test setlerine bölelim\n",
        "split_ratio = 0.8\n",
        "split_index = int(split_ratio * len(x))\n",
        "\n",
        "x_train, x_test = x[:split_index], x[split_index:]\n",
        "y_train, y_test = y[:split_index], y[split_index:]"
      ],
      "metadata": {
        "id": "7ZSY3fPDKEuu"
      },
      "execution_count": 124,
      "outputs": []
    },
    {
      "cell_type": "code",
      "source": [
        "from tensorflow.keras.optimizers import Adam, RMSprop, SGD\n",
        "\n",
        "\n",
        "# LSTM modelini oluştur\n",
        "model = Sequential()\n",
        "model.add(LSTM(50, activation='relu', input_shape=(time_steps, 1)))\n",
        "model.add(Dropout(0.1))  # Dropout katmanı ekleyin\n",
        "model.add(Dense(1))\n",
        "\n",
        "optimizer = Adam(lr=0.01)\n",
        "\n",
        "model.compile(optimizer=optimizer, loss='mse')\n",
        "\n",
        "# EarlyStopping callback'ini tanımla\n",
        "early_stopping = EarlyStopping(monitor='val_loss', patience=10, restore_best_weights=True)\n"
      ],
      "metadata": {
        "colab": {
          "base_uri": "https://localhost:8080/"
        },
        "id": "QD52ul-bKT7z",
        "outputId": "379ae577-8ec1-4a48-8098-4eeab985120a"
      },
      "execution_count": 130,
      "outputs": [
        {
          "output_type": "stream",
          "name": "stderr",
          "text": [
            "WARNING:absl:`lr` is deprecated in Keras optimizer, please use `learning_rate` or use the legacy optimizer, e.g.,tf.keras.optimizers.legacy.Adam.\n"
          ]
        }
      ]
    },
    {
      "cell_type": "markdown",
      "source": [
        "3/3 [==============================] - 0s 28ms/step - loss: 8.7905e-04 - val_loss: 0.0119\n"
      ],
      "metadata": {
        "id": "P5aWeYtCL6w_"
      }
    },
    {
      "cell_type": "code",
      "source": [
        "# Modeli eğit\n",
        "history = model.fit(x_train, y_train, epochs=300, batch_size=5, validation_split=0.25, callbacks=[early_stopping])\n",
        "\n",
        "# Modelden tahminleri yap\n",
        "y_pred_scaled = model.predict(x_test)\n",
        "\n",
        "# Tahminleri inverse transform yaparak geri çevir\n",
        "y_pred = scaler.inverse_transform(y_pred_scaled)\n",
        "y_test_actual = scaler.inverse_transform(y_test)"
      ],
      "metadata": {
        "colab": {
          "base_uri": "https://localhost:8080/"
        },
        "id": "CETCEXPFKT5R",
        "outputId": "e1a909e6-e278-4a01-e40d-39ca39eafcb1"
      },
      "execution_count": 131,
      "outputs": [
        {
          "output_type": "stream",
          "name": "stdout",
          "text": [
            "Epoch 1/300\n",
            "16/16 [==============================] - 2s 25ms/step - loss: 0.0398 - val_loss: 0.1262\n",
            "Epoch 2/300\n",
            "16/16 [==============================] - 0s 10ms/step - loss: 0.0122 - val_loss: 0.0345\n",
            "Epoch 3/300\n",
            "16/16 [==============================] - 0s 11ms/step - loss: 0.0076 - val_loss: 0.0365\n",
            "Epoch 4/300\n",
            "16/16 [==============================] - 0s 11ms/step - loss: 0.0068 - val_loss: 0.0355\n",
            "Epoch 5/300\n",
            "16/16 [==============================] - 0s 11ms/step - loss: 0.0058 - val_loss: 0.0251\n",
            "Epoch 6/300\n",
            "16/16 [==============================] - 0s 10ms/step - loss: 0.0048 - val_loss: 0.0170\n",
            "Epoch 7/300\n",
            "16/16 [==============================] - 0s 12ms/step - loss: 0.0041 - val_loss: 0.0137\n",
            "Epoch 8/300\n",
            "16/16 [==============================] - 0s 10ms/step - loss: 0.0038 - val_loss: 0.0124\n",
            "Epoch 9/300\n",
            "16/16 [==============================] - 0s 10ms/step - loss: 0.0032 - val_loss: 0.0123\n",
            "Epoch 10/300\n",
            "16/16 [==============================] - 0s 10ms/step - loss: 0.0037 - val_loss: 0.0124\n",
            "Epoch 11/300\n",
            "16/16 [==============================] - 0s 10ms/step - loss: 0.0036 - val_loss: 0.0122\n",
            "Epoch 12/300\n",
            "16/16 [==============================] - 0s 11ms/step - loss: 0.0038 - val_loss: 0.0136\n",
            "Epoch 13/300\n",
            "16/16 [==============================] - 0s 11ms/step - loss: 0.0035 - val_loss: 0.0129\n",
            "Epoch 14/300\n",
            "16/16 [==============================] - 0s 10ms/step - loss: 0.0035 - val_loss: 0.0124\n",
            "Epoch 15/300\n",
            "16/16 [==============================] - 0s 10ms/step - loss: 0.0042 - val_loss: 0.0130\n",
            "Epoch 16/300\n",
            "16/16 [==============================] - 0s 10ms/step - loss: 0.0032 - val_loss: 0.0121\n",
            "Epoch 17/300\n",
            "16/16 [==============================] - 0s 10ms/step - loss: 0.0035 - val_loss: 0.0130\n",
            "Epoch 18/300\n",
            "16/16 [==============================] - 0s 10ms/step - loss: 0.0033 - val_loss: 0.0120\n",
            "Epoch 19/300\n",
            "16/16 [==============================] - 0s 11ms/step - loss: 0.0034 - val_loss: 0.0124\n",
            "Epoch 20/300\n",
            "16/16 [==============================] - 0s 11ms/step - loss: 0.0029 - val_loss: 0.0120\n",
            "Epoch 21/300\n",
            "16/16 [==============================] - 0s 10ms/step - loss: 0.0029 - val_loss: 0.0117\n",
            "Epoch 22/300\n",
            "16/16 [==============================] - 0s 10ms/step - loss: 0.0038 - val_loss: 0.0115\n",
            "Epoch 23/300\n",
            "16/16 [==============================] - 0s 10ms/step - loss: 0.0034 - val_loss: 0.0117\n",
            "Epoch 24/300\n",
            "16/16 [==============================] - 0s 10ms/step - loss: 0.0036 - val_loss: 0.0119\n",
            "Epoch 25/300\n",
            "16/16 [==============================] - 0s 16ms/step - loss: 0.0032 - val_loss: 0.0113\n",
            "Epoch 26/300\n",
            "16/16 [==============================] - 0s 15ms/step - loss: 0.0034 - val_loss: 0.0128\n",
            "Epoch 27/300\n",
            "16/16 [==============================] - 0s 16ms/step - loss: 0.0032 - val_loss: 0.0109\n",
            "Epoch 28/300\n",
            "16/16 [==============================] - 0s 16ms/step - loss: 0.0030 - val_loss: 0.0122\n",
            "Epoch 29/300\n",
            "16/16 [==============================] - 0s 18ms/step - loss: 0.0031 - val_loss: 0.0106\n",
            "Epoch 30/300\n",
            "16/16 [==============================] - 0s 18ms/step - loss: 0.0031 - val_loss: 0.0107\n",
            "Epoch 31/300\n",
            "16/16 [==============================] - 0s 17ms/step - loss: 0.0031 - val_loss: 0.0112\n",
            "Epoch 32/300\n",
            "16/16 [==============================] - 0s 14ms/step - loss: 0.0029 - val_loss: 0.0104\n",
            "Epoch 33/300\n",
            "16/16 [==============================] - 0s 18ms/step - loss: 0.0032 - val_loss: 0.0102\n",
            "Epoch 34/300\n",
            "16/16 [==============================] - 0s 18ms/step - loss: 0.0025 - val_loss: 0.0099\n",
            "Epoch 35/300\n",
            "16/16 [==============================] - 0s 15ms/step - loss: 0.0026 - val_loss: 0.0103\n",
            "Epoch 36/300\n",
            "16/16 [==============================] - 0s 17ms/step - loss: 0.0026 - val_loss: 0.0095\n",
            "Epoch 37/300\n",
            "16/16 [==============================] - 0s 15ms/step - loss: 0.0027 - val_loss: 0.0105\n",
            "Epoch 38/300\n",
            "16/16 [==============================] - 0s 17ms/step - loss: 0.0023 - val_loss: 0.0105\n",
            "Epoch 39/300\n",
            "16/16 [==============================] - 0s 14ms/step - loss: 0.0025 - val_loss: 0.0098\n",
            "Epoch 40/300\n",
            "16/16 [==============================] - 0s 15ms/step - loss: 0.0024 - val_loss: 0.0087\n",
            "Epoch 41/300\n",
            "16/16 [==============================] - 0s 18ms/step - loss: 0.0025 - val_loss: 0.0084\n",
            "Epoch 42/300\n",
            "16/16 [==============================] - 0s 11ms/step - loss: 0.0026 - val_loss: 0.0086\n",
            "Epoch 43/300\n",
            "16/16 [==============================] - 0s 10ms/step - loss: 0.0025 - val_loss: 0.0080\n",
            "Epoch 44/300\n",
            "16/16 [==============================] - 0s 11ms/step - loss: 0.0025 - val_loss: 0.0079\n",
            "Epoch 45/300\n",
            "16/16 [==============================] - 0s 10ms/step - loss: 0.0023 - val_loss: 0.0076\n",
            "Epoch 46/300\n",
            "16/16 [==============================] - 0s 11ms/step - loss: 0.0026 - val_loss: 0.0082\n",
            "Epoch 47/300\n",
            "16/16 [==============================] - 0s 10ms/step - loss: 0.0022 - val_loss: 0.0078\n",
            "Epoch 48/300\n",
            "16/16 [==============================] - 0s 10ms/step - loss: 0.0026 - val_loss: 0.0087\n",
            "Epoch 49/300\n",
            "16/16 [==============================] - 0s 10ms/step - loss: 0.0025 - val_loss: 0.0071\n",
            "Epoch 50/300\n",
            "16/16 [==============================] - 0s 11ms/step - loss: 0.0023 - val_loss: 0.0071\n",
            "Epoch 51/300\n",
            "16/16 [==============================] - 0s 11ms/step - loss: 0.0016 - val_loss: 0.0063\n",
            "Epoch 52/300\n",
            "16/16 [==============================] - 0s 11ms/step - loss: 0.0018 - val_loss: 0.0061\n",
            "Epoch 53/300\n",
            "16/16 [==============================] - 0s 11ms/step - loss: 0.0023 - val_loss: 0.0055\n",
            "Epoch 54/300\n",
            "16/16 [==============================] - 0s 11ms/step - loss: 0.0017 - val_loss: 0.0057\n",
            "Epoch 55/300\n",
            "16/16 [==============================] - 0s 11ms/step - loss: 0.0016 - val_loss: 0.0054\n",
            "Epoch 56/300\n",
            "16/16 [==============================] - 0s 10ms/step - loss: 0.0020 - val_loss: 0.0058\n",
            "Epoch 57/300\n",
            "16/16 [==============================] - 0s 10ms/step - loss: 0.0017 - val_loss: 0.0049\n",
            "Epoch 58/300\n",
            "16/16 [==============================] - 0s 11ms/step - loss: 0.0016 - val_loss: 0.0067\n",
            "Epoch 59/300\n",
            "16/16 [==============================] - 0s 11ms/step - loss: 0.0019 - val_loss: 0.0070\n",
            "Epoch 60/300\n",
            "16/16 [==============================] - 0s 10ms/step - loss: 0.0022 - val_loss: 0.0053\n",
            "Epoch 61/300\n",
            "16/16 [==============================] - 0s 10ms/step - loss: 0.0015 - val_loss: 0.0053\n",
            "Epoch 62/300\n",
            "16/16 [==============================] - 0s 10ms/step - loss: 0.0018 - val_loss: 0.0047\n",
            "Epoch 63/300\n",
            "16/16 [==============================] - 0s 11ms/step - loss: 0.0017 - val_loss: 0.0062\n",
            "Epoch 64/300\n",
            "16/16 [==============================] - 0s 11ms/step - loss: 0.0015 - val_loss: 0.0046\n",
            "Epoch 65/300\n",
            "16/16 [==============================] - 0s 11ms/step - loss: 0.0015 - val_loss: 0.0054\n",
            "Epoch 66/300\n",
            "16/16 [==============================] - 0s 10ms/step - loss: 0.0017 - val_loss: 0.0044\n",
            "Epoch 67/300\n",
            "16/16 [==============================] - 0s 11ms/step - loss: 0.0011 - val_loss: 0.0043\n",
            "Epoch 68/300\n",
            "16/16 [==============================] - 0s 10ms/step - loss: 0.0013 - val_loss: 0.0041\n",
            "Epoch 69/300\n",
            "16/16 [==============================] - 0s 10ms/step - loss: 0.0020 - val_loss: 0.0048\n",
            "Epoch 70/300\n",
            "16/16 [==============================] - 0s 10ms/step - loss: 0.0020 - val_loss: 0.0051\n",
            "Epoch 71/300\n",
            "16/16 [==============================] - 0s 10ms/step - loss: 0.0015 - val_loss: 0.0045\n",
            "Epoch 72/300\n",
            "16/16 [==============================] - 0s 9ms/step - loss: 0.0011 - val_loss: 0.0061\n",
            "Epoch 73/300\n",
            "16/16 [==============================] - 0s 10ms/step - loss: 0.0014 - val_loss: 0.0044\n",
            "Epoch 74/300\n",
            "16/16 [==============================] - 0s 10ms/step - loss: 0.0011 - val_loss: 0.0043\n",
            "Epoch 75/300\n",
            "16/16 [==============================] - 0s 10ms/step - loss: 0.0017 - val_loss: 0.0043\n",
            "Epoch 76/300\n",
            "16/16 [==============================] - 0s 11ms/step - loss: 0.0020 - val_loss: 0.0074\n",
            "Epoch 77/300\n",
            "16/16 [==============================] - 0s 10ms/step - loss: 0.0021 - val_loss: 0.0062\n",
            "Epoch 78/300\n",
            "16/16 [==============================] - 0s 10ms/step - loss: 0.0015 - val_loss: 0.0039\n",
            "Epoch 79/300\n",
            "16/16 [==============================] - 0s 10ms/step - loss: 0.0015 - val_loss: 0.0034\n",
            "Epoch 80/300\n",
            "16/16 [==============================] - 0s 9ms/step - loss: 0.0012 - val_loss: 0.0035\n",
            "Epoch 81/300\n",
            "16/16 [==============================] - 0s 9ms/step - loss: 0.0017 - val_loss: 0.0036\n",
            "Epoch 82/300\n",
            "16/16 [==============================] - 0s 11ms/step - loss: 0.0011 - val_loss: 0.0040\n",
            "Epoch 83/300\n",
            "16/16 [==============================] - 0s 10ms/step - loss: 0.0010 - val_loss: 0.0046\n",
            "Epoch 84/300\n",
            "16/16 [==============================] - 0s 10ms/step - loss: 0.0011 - val_loss: 0.0044\n",
            "Epoch 85/300\n",
            "16/16 [==============================] - 0s 10ms/step - loss: 0.0011 - val_loss: 0.0068\n",
            "Epoch 86/300\n",
            "16/16 [==============================] - 0s 10ms/step - loss: 0.0013 - val_loss: 0.0062\n",
            "Epoch 87/300\n",
            "16/16 [==============================] - 0s 10ms/step - loss: 0.0011 - val_loss: 0.0056\n",
            "Epoch 88/300\n",
            "16/16 [==============================] - 0s 11ms/step - loss: 0.0013 - val_loss: 0.0052\n",
            "Epoch 89/300\n",
            "16/16 [==============================] - 0s 11ms/step - loss: 0.0012 - val_loss: 0.0034\n",
            "Epoch 90/300\n",
            "16/16 [==============================] - 0s 10ms/step - loss: 0.0011 - val_loss: 0.0058\n",
            "Epoch 91/300\n",
            "16/16 [==============================] - 0s 11ms/step - loss: 0.0015 - val_loss: 0.0036\n",
            "Epoch 92/300\n",
            "16/16 [==============================] - 0s 10ms/step - loss: 0.0015 - val_loss: 0.0038\n",
            "Epoch 93/300\n",
            "16/16 [==============================] - 0s 10ms/step - loss: 0.0011 - val_loss: 0.0032\n",
            "Epoch 94/300\n",
            "16/16 [==============================] - 0s 11ms/step - loss: 0.0011 - val_loss: 0.0032\n",
            "Epoch 95/300\n",
            "16/16 [==============================] - 0s 10ms/step - loss: 7.9825e-04 - val_loss: 0.0057\n",
            "Epoch 96/300\n",
            "16/16 [==============================] - 0s 11ms/step - loss: 0.0010 - val_loss: 0.0076\n",
            "Epoch 97/300\n",
            "16/16 [==============================] - 0s 10ms/step - loss: 0.0014 - val_loss: 0.0042\n",
            "Epoch 98/300\n",
            "16/16 [==============================] - 0s 10ms/step - loss: 9.8526e-04 - val_loss: 0.0038\n",
            "Epoch 99/300\n",
            "16/16 [==============================] - 0s 10ms/step - loss: 0.0011 - val_loss: 0.0039\n",
            "Epoch 100/300\n",
            "16/16 [==============================] - 0s 17ms/step - loss: 0.0011 - val_loss: 0.0034\n",
            "Epoch 101/300\n",
            "16/16 [==============================] - 0s 17ms/step - loss: 0.0015 - val_loss: 0.0041\n",
            "Epoch 102/300\n",
            "16/16 [==============================] - 0s 15ms/step - loss: 9.5946e-04 - val_loss: 0.0044\n",
            "Epoch 103/300\n",
            "16/16 [==============================] - 0s 18ms/step - loss: 9.9830e-04 - val_loss: 0.0043\n",
            "1/1 [==============================] - 0s 265ms/step\n"
          ]
        }
      ]
    },
    {
      "cell_type": "code",
      "source": [
        "# Tahmin ve gerçek değerleri görüntüle\n",
        "plt.plot(y_test_actual, label='Gerçek Değerler')\n",
        "plt.plot(y_pred, label='Tahminler')\n",
        "plt.legend()\n",
        "plt.show()\n",
        "\n",
        "# Modeli değerlendir\n",
        "loss = model.evaluate(x_test, y_test, verbose=0)\n",
        "print(f'Test loss: {loss}')"
      ],
      "metadata": {
        "colab": {
          "base_uri": "https://localhost:8080/",
          "height": 447
        },
        "id": "mzGAC7asKe5b",
        "outputId": "ed9c290c-6278-41e3-fba5-7b57e271be73"
      },
      "execution_count": 127,
      "outputs": [
        {
          "output_type": "display_data",
          "data": {
            "text/plain": [
              "<Figure size 640x480 with 1 Axes>"
            ],
            "image/png": "[encoded data removed]"
          },
          "metadata": {}
        },
        {
          "output_type": "stream",
          "name": "stdout",
          "text": [
            "Test loss: 0.005300390534102917\n"
          ]
        }
      ]
    },
    {
      "cell_type": "code",
      "source": [],
      "metadata": {
        "id": "dfzPwmrjKe0Z"
      },
      "execution_count": 127,
      "outputs": []
    }
  ]
}