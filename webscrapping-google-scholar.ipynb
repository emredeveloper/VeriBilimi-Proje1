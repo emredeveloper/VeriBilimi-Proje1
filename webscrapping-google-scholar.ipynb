{
  "nbformat": 4,
  "nbformat_minor": 0,
  "metadata": {
    "colab": {
      "provenance": [],
      "authorship_tag": "ABX9TyOv9mwxbbXHUw7YM8eE6USM",
      "include_colab_link": true
    },
    "kernelspec": {
      "name": "python3",
      "display_name": "Python 3"
    },
    "language_info": {
      "name": "python"
    }
  },
  "cells": [
    {
      "cell_type": "markdown",
      "metadata": {
        "id": "view-in-github",
        "colab_type": "text"
      },
      "source": [
        "<a href=\"https://colab.research.google.com/github/emredeveloper/VeriBilimi-Projeler/blob/main/webscrapping-google-scholar.ipynb\" target=\"_parent\"><img src=\"https://colab.research.google.com/assets/colab-badge.svg\" alt=\"Open In Colab\"/></a>"
      ]
    },
    {
      "cell_type": "code",
      "execution_count": 1,
      "metadata": {
        "colab": {
          "base_uri": "https://localhost:8080/"
        },
        "id": "I1Y1OodMafej",
        "outputId": "1c9a0bbb-4d71-4c53-a163-6bed4c85ae73"
      },
      "outputs": [
        {
          "output_type": "stream",
          "name": "stdout",
          "text": [
            "Title: Renewable energy strategies for sustainable development\n",
            "Link: https://www.sciencedirect.com/science/article/pii/S036054420600301X\n",
            "\n",
            "Title: Renewable energy today and tomorrow\n",
            "Link: https://ieeexplore.ieee.org/abstract/document/940290/\n",
            "\n",
            "Title: [書籍][B] Renewable energy resources\n",
            "Link: https://books.google.com/books?hl=zh-TW&lr=&id=P9JJEAAAQBAJ&oi=fnd&pg=PP1&dq=renewable&ots=pK1VsnY0du&sig=n2ohTwkgLcc0jJBGdLZ-fj8Pfkk\n",
            "\n",
            "Title: Progress in renewable energy\n",
            "Link: https://www.sciencedirect.com/science/article/pii/S0160412002001307\n",
            "\n",
            "Title: What is the global potential for renewable energy?\n",
            "Link: https://www.sciencedirect.com/science/article/pii/S1364032111003984\n",
            "\n",
            "Title: Role of renewable energy sources in environmental protection: A review\n",
            "Link: https://www.sciencedirect.com/science/article/pii/S1364032110004065\n",
            "\n",
            "Title: Renewable energy and sustainable development: a crucial review\n",
            "Link: https://www.sciencedirect.com/science/article/pii/S1364032199000118\n",
            "\n",
            "Title: Renewable energy and the public\n",
            "Link: https://www.sciencedirect.com/science/article/pii/026483779590074C\n",
            "\n",
            "Title: Sustainable development using renewable energy technology\n",
            "Link: https://www.sciencedirect.com/science/article/pii/S0960148119312819\n",
            "\n",
            "Title: Abandoning the concept of renewable energy\n",
            "Link: https://www.sciencedirect.com/science/article/pii/S0301421518308280\n",
            "\n"
          ]
        }
      ],
      "source": [
        "import requests\n",
        "from bs4 import BeautifulSoup\n",
        "\n",
        "def scrape_google_scholar(query):\n",
        "    url = f\"https://scholar.google.com/scholar?q={query}\"\n",
        "    headers = {\n",
        "        'User-Agent': 'Mozilla/5.0 (Windows NT 10.0; Win64; x64) AppleWebKit/537.36 (KHTML, like Gecko) Chrome/58.0.3029.110 Safari/537.3'}\n",
        "\n",
        "    response = requests.get(url, headers=headers)\n",
        "    if response.status_code == 200:\n",
        "        soup = BeautifulSoup(response.content, 'html.parser')\n",
        "        results = soup.find_all('h3', {'class': 'gs_rt'})\n",
        "\n",
        "        for result in results:\n",
        "            title = result.text\n",
        "            link = result.a['href']\n",
        "            print(f\"Title: {title}\\nLink: {link}\\n\")\n",
        "    else:\n",
        "        print(\"Error accessing Google Scholar.\")\n",
        "\n",
        "search_query = \"renewable\"\n",
        "scrape_google_scholar(search_query)\n"
      ]
    }
  ]
}