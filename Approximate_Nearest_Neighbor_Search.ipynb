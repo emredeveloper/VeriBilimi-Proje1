{
  "nbformat": 4,
  "nbformat_minor": 0,
  "metadata": {
    "colab": {
      "provenance": [],
      "authorship_tag": "ABX9TyMy3pSaj04EPjaxCtosKM84",
      "include_colab_link": true
    },
    "kernelspec": {
      "name": "python3",
      "display_name": "Python 3"
    },
    "language_info": {
      "name": "python"
    }
  },
  "cells": [
    {
      "cell_type": "markdown",
      "metadata": {
        "id": "view-in-github",
        "colab_type": "text"
      },
      "source": [
        "<a href=\"https://colab.research.google.com/github/emredeveloper/VeriBilimi-Projeler/blob/main/Approximate_Nearest_Neighbor_Search.ipynb\" target=\"_parent\"><img src=\"https://colab.research.google.com/assets/colab-badge.svg\" alt=\"Open In Colab\"/></a>"
      ]
    },
    {
      "cell_type": "code",
      "execution_count": null,
      "metadata": {
        "id": "CRGPdHcSyohx"
      },
      "outputs": [],
      "source": [
        "import numpy as np\n",
        "from sklearn.neighbors import NearestNeighbors\n",
        "\n",
        "# Örnek veri kümesi oluşturma\n",
        "X = np.array([[1, 2], [3, 4], [5, 6], [7, 8]])"
      ]
    },
    {
      "cell_type": "code",
      "source": [
        "# Yaklaşık en yakın komşu modelini oluşturma\n",
        "nbrs = NearestNeighbors(n_neighbors=2, algorithm='auto').fit(X)\n",
        "\n",
        "# Sorgu vektörü oluşturma\n",
        "query_point = np.array([[2.5, 3.5]])"
      ],
      "metadata": {
        "id": "5oB-57o6yriw"
      },
      "execution_count": null,
      "outputs": []
    },
    {
      "cell_type": "code",
      "source": [
        "# En yakın komşuları bulma\n",
        "distances, indices = nbrs.kneighbors(query_point)\n",
        "\n",
        "print(\"Sorgu Noktası:\", query_point)\n",
        "print(\"En Yakın Komşuların İndeksleri:\", indices)\n",
        "print(\"En Yakın Komşuların Uzaklıkları:\", distances)"
      ],
      "metadata": {
        "colab": {
          "base_uri": "https://localhost:8080/"
        },
        "id": "LDZt8wlmzO5G",
        "outputId": "80de9596-b815-4312-8587-a8293b6138eb"
      },
      "execution_count": null,
      "outputs": [
        {
          "output_type": "stream",
          "name": "stdout",
          "text": [
            "Sorgu Noktası: [[2.5 3.5]]\n",
            "En Yakın Komşuların İndeksleri: [[1 0]]\n",
            "En Yakın Komşuların Uzaklıkları: [[0.70710678 2.12132034]]\n"
          ]
        }
      ]
    }
  ]
}