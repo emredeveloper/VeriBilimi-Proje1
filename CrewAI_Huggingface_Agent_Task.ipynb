{
  "nbformat": 4,
  "nbformat_minor": 0,
  "metadata": {
    "colab": {
      "provenance": [],
      "authorship_tag": "ABX9TyPa7j9P+9LZUgJ9Ia88aroZ",
      "include_colab_link": true
    },
    "kernelspec": {
      "name": "python3",
      "display_name": "Python 3"
    },
    "language_info": {
      "name": "python"
    }
  },
  "cells": [
    {
      "cell_type": "markdown",
      "metadata": {
        "id": "view-in-github",
        "colab_type": "text"
      },
      "source": [
        "<a href=\"https://colab.research.google.com/github/emredeveloper/VeriBilimi-Projeler/blob/main/CrewAI_Huggingface_Agent_Task.ipynb\" target=\"_parent\"><img src=\"https://colab.research.google.com/assets/colab-badge.svg\" alt=\"Open In Colab\"/></a>"
      ]
    },
    {
      "cell_type": "code",
      "source": [
        "from crewai import Agent, Task, Crew"
      ],
      "metadata": {
        "id": "-gkbyEET67D6"
      },
      "execution_count": 83,
      "outputs": []
    },
    {
      "cell_type": "code",
      "source": [
        "from google.colab import userdata\n",
        "hf_token = userdata.get('HF_TOKEN')"
      ],
      "metadata": {
        "id": "PKvhdAoSBrQf"
      },
      "execution_count": 84,
      "outputs": []
    },
    {
      "cell_type": "code",
      "source": [
        "from crewai import Agent, Task, Crew\n",
        "from langchain_community.llms import HuggingFaceEndpoint\n",
        "\n",
        "from langchain_community.llms import HuggingFaceHub\n",
        "\n",
        "llm = HuggingFaceHub(\n",
        "    repo_id=\"HuggingFaceH4/zephyr-7b-beta\",\n",
        "    huggingfacehub_api_token=hf_token,\n",
        "    task=\"text-generation\"\n",
        ")\n",
        "\n",
        "agent = Agent(\n",
        "    role=\"HuggingFace Github Repository Agent\",\n",
        "    goal=\"Generate Sources using HuggingFace\",\n",
        "    backstory=\"A diligent explorer of GitHub docs.\",\n",
        "    llm=llm\n",
        ")\n",
        "\n",
        "task = Task (description=\"\"\"ai github repository \"\"\",\n",
        "           agent = agent,\n",
        "           expected_output=\"Only hugginface repos links output.\")\n",
        "\n",
        "crew = Crew(\n",
        "        agents=[agent],\n",
        "        tasks=[task],\n",
        "        verbose=1\n",
        "    )\n",
        "\n",
        "result = crew.kickoff()"
      ],
      "metadata": {
        "colab": {
          "base_uri": "https://localhost:8080/"
        },
        "id": "-wp82su66SJF",
        "outputId": "4560daca-88d7-4fce-8c5a-19317f7f762c"
      },
      "execution_count": 85,
      "outputs": [
        {
          "output_type": "stream",
          "name": "stderr",
          "text": [
            "WARNING:opentelemetry.trace:Overriding of current TracerProvider is not allowed\n"
          ]
        },
        {
          "output_type": "stream",
          "name": "stdout",
          "text": [
            "\u001b[1m\u001b[95m [DEBUG]: == Working Agent: HuggingFace Github Repository Agent\u001b[00m\n",
            "\u001b[1m\u001b[92m [DEBUG]: == [HuggingFace Github Repository Agent] Task output: https://github.com/huggingface/transformers\n",
            "https://github.com/huggingface/datasets\n",
            "https://github.com/huggingface/accelerate\n",
            "https://github.com/huggingface/diffusers\n",
            "https://github.com/huggingface/tokenizers\n",
            "https://github.com/huggingface/hub\n",
            "https://github.com/hugging\n",
            "\n",
            "\u001b[00m\n"
          ]
        }
      ]
    },
    {
      "cell_type": "code",
      "source": [
        "print(result)"
      ],
      "metadata": {
        "colab": {
          "base_uri": "https://localhost:8080/"
        },
        "id": "zZEvu-llCn0m",
        "outputId": "edb5cc9c-aa1a-4092-9be7-7788594b2521"
      },
      "execution_count": 88,
      "outputs": [
        {
          "output_type": "stream",
          "name": "stdout",
          "text": [
            "https://github.com/huggingface/transformers\n",
            "https://github.com/huggingface/datasets\n",
            "https://github.com/huggingface/accelerate\n",
            "https://github.com/huggingface/diffusers\n",
            "https://github.com/huggingface/tokenizers\n",
            "https://github.com/huggingface/hub\n",
            "https://github.com/hugging\n"
          ]
        }
      ]
    }
  ]
}