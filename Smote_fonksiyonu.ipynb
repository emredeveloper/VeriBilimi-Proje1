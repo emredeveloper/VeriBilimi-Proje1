{
  "nbformat": 4,
  "nbformat_minor": 0,
  "metadata": {
    "colab": {
      "provenance": [],
      "authorship_tag": "ABX9TyNjFygNOJrtrO3fv1mkD6eR",
      "include_colab_link": true
    },
    "kernelspec": {
      "name": "python3",
      "display_name": "Python 3"
    },
    "language_info": {
      "name": "python"
    }
  },
  "cells": [
    {
      "cell_type": "markdown",
      "metadata": {
        "id": "view-in-github",
        "colab_type": "text"
      },
      "source": [
        "<a href=\"https://colab.research.google.com/github/emredeveloper/VeriBilimi-Projeler/blob/main/Smote_fonksiyonu.ipynb\" target=\"_parent\"><img src=\"https://colab.research.google.com/assets/colab-badge.svg\" alt=\"Open In Colab\"/></a>"
      ]
    },
    {
      "cell_type": "code",
      "execution_count": 1,
      "metadata": {
        "colab": {
          "base_uri": "https://localhost:8080/"
        },
        "id": "XC9zoamdJEME",
        "outputId": "c7df6786-8dc4-48db-c01b-ac38cc37365c"
      },
      "outputs": [
        {
          "output_type": "stream",
          "name": "stdout",
          "text": [
            "Orijinal Azınlık Sınıfı Dağılımı:\n",
            "Counter({0: 900, 1: 100})\n",
            "\n",
            "SMOTE Uygulandıktan Sonraki Azınlık Sınıfı Dağılımı:\n",
            "Counter({0: 900, 1: 900})\n"
          ]
        }
      ],
      "source": [
        "import numpy as np\n",
        "import pandas as pd\n",
        "from imblearn.over_sampling import SMOTE\n",
        "from sklearn.datasets import make_classification\n",
        "from collections import Counter\n",
        "\n",
        "# Dengesiz bir veri seti oluşturma\n",
        "X, y = make_classification(n_classes=2, class_sep=2, weights=[0.9, 0.1], n_informative=3,\n",
        "                           n_redundant=1, flip_y=0, n_features=20, n_clusters_per_class=1,\n",
        "                           n_samples=1000, random_state=42)\n",
        "\n",
        "# Azınlık sınıfının orijinal boyutunu yazdırma\n",
        "print(\"Orijinal Azınlık Sınıfı Dağılımı:\")\n",
        "print(Counter(y))\n",
        "\n",
        "# SMOTE tekniği ile azınlık sınıfını artırma\n",
        "smote = SMOTE(sampling_strategy='auto', random_state=42)\n",
        "X_resampled, y_resampled = smote.fit_resample(X, y)\n",
        "\n",
        "# Yeniden örnekleme sonucunda azınlık sınıfının boyutunu yazdırma\n",
        "print(\"\\nSMOTE Uygulandıktan Sonraki Azınlık Sınıfı Dağılımı:\")\n",
        "print(Counter(y_resampled))"
      ]
    }
  ]
}